{
 "cells": [
  {
   "cell_type": "markdown",
   "id": "4a60295c-5093-42f2-836b-2751bf620e05",
   "metadata": {},
   "source": [
    "# First notebook blog"
   ]
  },
  {
   "cell_type": "markdown",
   "id": "3f0078a4-07d0-4b6d-b7f8-48c2dd19ae67",
   "metadata": {},
   "source": [
    "This is my first blog post using Jupyter notebooks."
   ]
  },
  {
   "cell_type": "code",
   "execution_count": 1,
   "id": "6344a9a0-059c-4ecd-84ae-b0e3dc155921",
   "metadata": {},
   "outputs": [
    {
     "name": "stdout",
     "output_type": "stream",
     "text": [
      "Hello blog\n"
     ]
    }
   ],
   "source": [
    "print('Hello blog')"
   ]
  },
  {
   "cell_type": "code",
   "execution_count": null,
   "id": "41ddfa48-475e-41ae-96b2-be205ddedee5",
   "metadata": {},
   "outputs": [],
   "source": []
  }
 ],
 "metadata": {
  "kernelspec": {
   "display_name": "Python 3 (ipykernel)",
   "language": "python",
   "name": "python3"
  },
  "language_info": {
   "codemirror_mode": {
    "name": "ipython",
    "version": 3
   },
   "file_extension": ".py",
   "mimetype": "text/x-python",
   "name": "python",
   "nbconvert_exporter": "python",
   "pygments_lexer": "ipython3",
   "version": "3.9.7"
  }
 },
 "nbformat": 4,
 "nbformat_minor": 5
}
